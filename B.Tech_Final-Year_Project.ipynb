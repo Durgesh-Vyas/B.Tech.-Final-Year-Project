{
 "cells": [
  {
   "cell_type": "code",
   "execution_count": 98,
   "metadata": {},
   "outputs": [],
   "source": [
    "from newscatcherapi import NewsCatcherApiClient\n",
    "newscatcherapi = NewsCatcherApiClient(x_api_key = 'ItRKYxXNxrJUsUcybFkXA9CRUkSFl-OIUtfZXZG4rKU')"
   ]
  },
  {
   "cell_type": "code",
   "execution_count": null,
   "metadata": {},
   "outputs": [],
   "source": [
    "from keras.models import Sequential\n",
    "from keras.layers import Dense, LSTM, Dropout\n",
    "from keras.layers import *\n",
    "from sklearn.preprocessing import MinMaxScaler\n",
    "import pandas as pd\n",
    "import snscrape.modules.twitter as sntwitter\n",
    "from textblob import TextBlob\n",
    "from vaderSentiment.vaderSentiment import SentimentIntensityAnalyzer"
   ]
  },
  {
   "cell_type": "code",
   "execution_count": 474,
   "metadata": {},
   "outputs": [],
   "source": [
    "stockname_t = 'microsoft'\n",
    "stockname_p = 'msft'\n",
    "end_date = '2022-11-13'\n",
    "start_date = '2022-10-31'"
   ]
  },
  {
   "cell_type": "code",
   "execution_count": 475,
   "metadata": {},
   "outputs": [],
   "source": [
    "all_articles = newscatcherapi.get_search(q=stockname_t, lang='en', from_= start_date, to_ = end_date)"
   ]
  },
  {
   "cell_type": "code",
   "execution_count": 477,
   "metadata": {},
   "outputs": [
    {
     "data": {
      "text/plain": [
       "(50, 19)"
      ]
     },
     "execution_count": 477,
     "metadata": {},
     "output_type": "execute_result"
    }
   ],
   "source": [
    "df = pd.DataFrame(all_articles['articles'])\n",
    "df.shape"
   ]
  },
  {
   "cell_type": "code",
   "execution_count": 478,
   "metadata": {},
   "outputs": [],
   "source": [
    "df = df.drop(['author','published_date_precision','link','clean_url','excerpt','summary','rights','rank','topic','country','language','authors','media','is_opinion','twitter_account','_score','_id'],axis=1)"
   ]
  },
  {
   "cell_type": "code",
   "execution_count": 479,
   "metadata": {},
   "outputs": [],
   "source": [
    "df.rename(columns={'published_date':'Date'},inplace=True)\n",
    "df['Date'] = pd.to_datetime(df['Date']).dt.date"
   ]
  },
  {
   "cell_type": "code",
   "execution_count": 480,
   "metadata": {},
   "outputs": [
    {
     "data": {
      "text/html": [
       "<div>\n",
       "<style scoped>\n",
       "    .dataframe tbody tr th:only-of-type {\n",
       "        vertical-align: middle;\n",
       "    }\n",
       "\n",
       "    .dataframe tbody tr th {\n",
       "        vertical-align: top;\n",
       "    }\n",
       "\n",
       "    .dataframe thead th {\n",
       "        text-align: right;\n",
       "    }\n",
       "</style>\n",
       "<table border=\"1\" class=\"dataframe\">\n",
       "  <thead>\n",
       "    <tr style=\"text-align: right;\">\n",
       "      <th></th>\n",
       "      <th>title</th>\n",
       "      <th>Date</th>\n",
       "    </tr>\n",
       "  </thead>\n",
       "  <tbody>\n",
       "    <tr>\n",
       "      <th>0</th>\n",
       "      <td>Microsoft Create is here to make the company's...</td>\n",
       "      <td>2022-11-08</td>\n",
       "    </tr>\n",
       "    <tr>\n",
       "      <th>1</th>\n",
       "      <td>Headed to São Paulo? Don't miss these unforget...</td>\n",
       "      <td>2022-11-05</td>\n",
       "    </tr>\n",
       "    <tr>\n",
       "      <th>2</th>\n",
       "      <td>Microsoft launches early preview of Create web...</td>\n",
       "      <td>2022-11-08</td>\n",
       "    </tr>\n",
       "    <tr>\n",
       "      <th>3</th>\n",
       "      <td>Microsoft: Top Recession Value (NASDAQ:MSFT)</td>\n",
       "      <td>2022-11-07</td>\n",
       "    </tr>\n",
       "    <tr>\n",
       "      <th>4</th>\n",
       "      <td>Crown Princess Amalia under fire: \"that tongue!\"</td>\n",
       "      <td>2022-11-09</td>\n",
       "    </tr>\n",
       "  </tbody>\n",
       "</table>\n",
       "</div>"
      ],
      "text/plain": [
       "                                               title        Date\n",
       "0  Microsoft Create is here to make the company's...  2022-11-08\n",
       "1  Headed to São Paulo? Don't miss these unforget...  2022-11-05\n",
       "2  Microsoft launches early preview of Create web...  2022-11-08\n",
       "3       Microsoft: Top Recession Value (NASDAQ:MSFT)  2022-11-07\n",
       "4   Crown Princess Amalia under fire: \"that tongue!\"  2022-11-09"
      ]
     },
     "execution_count": 480,
     "metadata": {},
     "output_type": "execute_result"
    }
   ],
   "source": [
    "df.head()"
   ]
  },
  {
   "cell_type": "code",
   "execution_count": 482,
   "metadata": {},
   "outputs": [],
   "source": [
    "query = stockname_t+' min_faves:100 until:'+end_date+' since:'+start_date+ 'lang:en'\n",
    "tweets = []\n",
    "\n",
    "for tweet in sntwitter.TwitterSearchScraper(query).get_items():\n",
    "    tweets.append([tweet.date.date(), tweet.content])\n",
    "    \n",
    "df_tweet = pd.DataFrame(tweets, columns=['Date', 'Tweets'])\n",
    "\n",
    "df_tweet = df_tweet.drop_duplicates(subset=['Date'])"
   ]
  },
  {
   "cell_type": "code",
   "execution_count": 483,
   "metadata": {},
   "outputs": [
    {
     "data": {
      "text/html": [
       "<div>\n",
       "<style scoped>\n",
       "    .dataframe tbody tr th:only-of-type {\n",
       "        vertical-align: middle;\n",
       "    }\n",
       "\n",
       "    .dataframe tbody tr th {\n",
       "        vertical-align: top;\n",
       "    }\n",
       "\n",
       "    .dataframe thead th {\n",
       "        text-align: right;\n",
       "    }\n",
       "</style>\n",
       "<table border=\"1\" class=\"dataframe\">\n",
       "  <thead>\n",
       "    <tr style=\"text-align: right;\">\n",
       "      <th></th>\n",
       "      <th>Date</th>\n",
       "      <th>Tweets</th>\n",
       "    </tr>\n",
       "  </thead>\n",
       "  <tbody>\n",
       "    <tr>\n",
       "      <th>0</th>\n",
       "      <td>2022-11-12</td>\n",
       "      <td>Sorry Tim, many of us don’t see Phil as Jesus ...</td>\n",
       "    </tr>\n",
       "    <tr>\n",
       "      <th>52</th>\n",
       "      <td>2022-11-11</td>\n",
       "      <td>@DMC_Ryan @RCardosoEU They're working hard to ...</td>\n",
       "    </tr>\n",
       "    <tr>\n",
       "      <th>125</th>\n",
       "      <td>2022-11-10</td>\n",
       "      <td>2 years of Xbox Series X / S today. Even 2 yea...</td>\n",
       "    </tr>\n",
       "    <tr>\n",
       "      <th>205</th>\n",
       "      <td>2022-11-09</td>\n",
       "      <td>so far most of my success as a lawyer*, if ind...</td>\n",
       "    </tr>\n",
       "    <tr>\n",
       "      <th>275</th>\n",
       "      <td>2022-11-08</td>\n",
       "      <td>Hay pocas cosas que odio en mi vida, una de el...</td>\n",
       "    </tr>\n",
       "  </tbody>\n",
       "</table>\n",
       "</div>"
      ],
      "text/plain": [
       "           Date                                             Tweets\n",
       "0    2022-11-12  Sorry Tim, many of us don’t see Phil as Jesus ...\n",
       "52   2022-11-11  @DMC_Ryan @RCardosoEU They're working hard to ...\n",
       "125  2022-11-10  2 years of Xbox Series X / S today. Even 2 yea...\n",
       "205  2022-11-09  so far most of my success as a lawyer*, if ind...\n",
       "275  2022-11-08  Hay pocas cosas que odio en mi vida, una de el..."
      ]
     },
     "execution_count": 483,
     "metadata": {},
     "output_type": "execute_result"
    }
   ],
   "source": [
    "df_tweet.head()"
   ]
  },
  {
   "cell_type": "code",
   "execution_count": 484,
   "metadata": {},
   "outputs": [
    {
     "data": {
      "text/plain": [
       "(13, 2)"
      ]
     },
     "execution_count": 484,
     "metadata": {},
     "output_type": "execute_result"
    }
   ],
   "source": [
    "df_tweet.shape"
   ]
  },
  {
   "cell_type": "code",
   "execution_count": 485,
   "metadata": {},
   "outputs": [],
   "source": [
    "merge = df_tweet.merge(df, how='outer')\n",
    "\n",
    "df1 = pd.DataFrame.from_dict(merge)"
   ]
  },
  {
   "cell_type": "code",
   "execution_count": 486,
   "metadata": {},
   "outputs": [],
   "source": [
    "news_tweet = []\n",
    "for row in range(0, len(df1.index)):\n",
    "    news_tweet.append(' '.join(str(x) for x in df1.iloc[row, 1:2]))"
   ]
  },
  {
   "cell_type": "code",
   "execution_count": 487,
   "metadata": {},
   "outputs": [],
   "source": [
    "df1['Combined'] = news_tweet"
   ]
  },
  {
   "cell_type": "code",
   "execution_count": 488,
   "metadata": {},
   "outputs": [],
   "source": [
    "df_news_tweets = df1.drop(['Tweets','title'],axis=1)"
   ]
  },
  {
   "cell_type": "code",
   "execution_count": 490,
   "metadata": {},
   "outputs": [],
   "source": [
    "def getSubjectivity(text):\n",
    "    return TextBlob(text).sentiment.subjectivity\n",
    "\n",
    "def getPolarity(text):\n",
    "    return TextBlob(text).sentiment.polarity"
   ]
  },
  {
   "cell_type": "code",
   "execution_count": 491,
   "metadata": {},
   "outputs": [],
   "source": [
    "df_news_tweets['Subjectivity'] = df_news_tweets['Combined'].apply(getSubjectivity)\n",
    "df_news_tweets['Polarity'] = df_news_tweets['Combined'].apply(getPolarity)"
   ]
  },
  {
   "cell_type": "code",
   "execution_count": 492,
   "metadata": {},
   "outputs": [],
   "source": [
    "def getSIA(text):\n",
    "    sia = SentimentIntensityAnalyzer()\n",
    "    sentiment = sia.polarity_scores(text)\n",
    "    return sentiment"
   ]
  },
  {
   "cell_type": "code",
   "execution_count": 493,
   "metadata": {},
   "outputs": [],
   "source": [
    "compound, neg, pos, neu = [], [], [], []\n",
    "SIA = 0\n",
    "\n",
    "for i in range(0, len(df_news_tweets['Combined'])):\n",
    "    SIA = getSIA(df_news_tweets['Combined'][i])\n",
    "    compound.append(SIA['compound'])\n",
    "    neg.append(SIA['neg'])\n",
    "    pos.append(SIA['pos'])\n",
    "    neu.append(SIA['neu'])\n",
    "    \n",
    "df_news_tweets['Positive'] = pos\n",
    "df_news_tweets['Negative'] = neg\n",
    "df_news_tweets['Neutral'] = neu\n",
    "df_news_tweets['Compound'] = compound"
   ]
  },
  {
   "cell_type": "code",
   "execution_count": 494,
   "metadata": {},
   "outputs": [],
   "source": [
    "df_news_tweets = df_news_tweets.drop(['Combined','Subjectivity', 'Polarity'],axis=1)"
   ]
  },
  {
   "cell_type": "code",
   "execution_count": 495,
   "metadata": {},
   "outputs": [],
   "source": [
    "import yfinance as yf"
   ]
  },
  {
   "cell_type": "code",
   "execution_count": 496,
   "metadata": {},
   "outputs": [
    {
     "name": "stdout",
     "output_type": "stream",
     "text": [
      "[*********************100%***********************]  1 of 1 completed\n"
     ]
    }
   ],
   "source": [
    "df_price = pd.DataFrame()\n",
    "\n",
    "df_price = yf.download(stockname_p, start=start_date, end=end_date)\n",
    "df_price = df_price.reset_index()\n",
    "df_price = df_price.drop(['Open','High','Low','Adj Close','Volume'],axis=1)\n",
    "df_price['Date'] = pd.to_datetime(df_price['Date']).dt.date"
   ]
  },
  {
   "cell_type": "code",
   "execution_count": 498,
   "metadata": {},
   "outputs": [],
   "source": [
    "merge1 = df_price.merge(df_news_tweets, on='Date',how='outer')"
   ]
  },
  {
   "cell_type": "code",
   "execution_count": 499,
   "metadata": {},
   "outputs": [
    {
     "data": {
      "text/plain": [
       "(53, 6)"
      ]
     },
     "execution_count": 499,
     "metadata": {},
     "output_type": "execute_result"
    }
   ],
   "source": [
    "df_news_price_tweets = pd.DataFrame.from_dict(merge1)\n",
    "df_news_price_tweets.shape"
   ]
  },
  {
   "cell_type": "code",
   "execution_count": 500,
   "metadata": {},
   "outputs": [
    {
     "data": {
      "text/html": [
       "<div>\n",
       "<style scoped>\n",
       "    .dataframe tbody tr th:only-of-type {\n",
       "        vertical-align: middle;\n",
       "    }\n",
       "\n",
       "    .dataframe tbody tr th {\n",
       "        vertical-align: top;\n",
       "    }\n",
       "\n",
       "    .dataframe thead th {\n",
       "        text-align: right;\n",
       "    }\n",
       "</style>\n",
       "<table border=\"1\" class=\"dataframe\">\n",
       "  <thead>\n",
       "    <tr style=\"text-align: right;\">\n",
       "      <th></th>\n",
       "      <th>Date</th>\n",
       "      <th>Close</th>\n",
       "      <th>Positive</th>\n",
       "      <th>Negative</th>\n",
       "      <th>Neutral</th>\n",
       "      <th>Compound</th>\n",
       "    </tr>\n",
       "  </thead>\n",
       "  <tbody>\n",
       "    <tr>\n",
       "      <th>0</th>\n",
       "      <td>2022-10-31</td>\n",
       "      <td>232.130005</td>\n",
       "      <td>0.000</td>\n",
       "      <td>0.000</td>\n",
       "      <td>1.000</td>\n",
       "      <td>0.0000</td>\n",
       "    </tr>\n",
       "    <tr>\n",
       "      <th>1</th>\n",
       "      <td>2022-11-01</td>\n",
       "      <td>228.169998</td>\n",
       "      <td>0.077</td>\n",
       "      <td>0.115</td>\n",
       "      <td>0.809</td>\n",
       "      <td>-0.2263</td>\n",
       "    </tr>\n",
       "    <tr>\n",
       "      <th>2</th>\n",
       "      <td>2022-11-02</td>\n",
       "      <td>220.100006</td>\n",
       "      <td>0.000</td>\n",
       "      <td>0.000</td>\n",
       "      <td>1.000</td>\n",
       "      <td>0.0000</td>\n",
       "    </tr>\n",
       "    <tr>\n",
       "      <th>3</th>\n",
       "      <td>2022-11-02</td>\n",
       "      <td>220.100006</td>\n",
       "      <td>0.000</td>\n",
       "      <td>0.000</td>\n",
       "      <td>1.000</td>\n",
       "      <td>0.0000</td>\n",
       "    </tr>\n",
       "    <tr>\n",
       "      <th>4</th>\n",
       "      <td>2022-11-03</td>\n",
       "      <td>214.250000</td>\n",
       "      <td>0.000</td>\n",
       "      <td>0.000</td>\n",
       "      <td>1.000</td>\n",
       "      <td>0.0000</td>\n",
       "    </tr>\n",
       "  </tbody>\n",
       "</table>\n",
       "</div>"
      ],
      "text/plain": [
       "         Date       Close  Positive  Negative  Neutral  Compound\n",
       "0  2022-10-31  232.130005     0.000     0.000    1.000    0.0000\n",
       "1  2022-11-01  228.169998     0.077     0.115    0.809   -0.2263\n",
       "2  2022-11-02  220.100006     0.000     0.000    1.000    0.0000\n",
       "3  2022-11-02  220.100006     0.000     0.000    1.000    0.0000\n",
       "4  2022-11-03  214.250000     0.000     0.000    1.000    0.0000"
      ]
     },
     "execution_count": 500,
     "metadata": {},
     "output_type": "execute_result"
    }
   ],
   "source": [
    "df_news_price_tweets.head()"
   ]
  },
  {
   "cell_type": "code",
   "execution_count": 501,
   "metadata": {},
   "outputs": [],
   "source": [
    "df_news_price_tweets = df_news_price_tweets.dropna()"
   ]
  },
  {
   "cell_type": "code",
   "execution_count": 502,
   "metadata": {},
   "outputs": [
    {
     "data": {
      "text/plain": [
       "(48, 6)"
      ]
     },
     "execution_count": 502,
     "metadata": {},
     "output_type": "execute_result"
    }
   ],
   "source": [
    "df_news_price_tweets.shape"
   ]
  },
  {
   "cell_type": "code",
   "execution_count": 506,
   "metadata": {},
   "outputs": [],
   "source": [
    "num_shape = 20"
   ]
  },
  {
   "cell_type": "code",
   "execution_count": 507,
   "metadata": {},
   "outputs": [],
   "source": [
    "train = df_news_price_tweets.iloc[:num_shape, 1:2].values\n",
    "test = df_news_price_tweets.iloc[num_shape:, 1:2].values"
   ]
  },
  {
   "cell_type": "code",
   "execution_count": 508,
   "metadata": {},
   "outputs": [],
   "source": [
    "sc = MinMaxScaler(feature_range = (0, 1))\n",
    "train_scaled = sc.fit_transform(train)"
   ]
  },
  {
   "cell_type": "code",
   "execution_count": 509,
   "metadata": {},
   "outputs": [],
   "source": [
    "import numpy as np"
   ]
  },
  {
   "cell_type": "code",
   "execution_count": 510,
   "metadata": {},
   "outputs": [],
   "source": [
    "X_train = []\n",
    "\n",
    "#Price on next day\n",
    "y_train = []\n",
    "\n",
    "window = 3\n",
    "\n",
    "for i in range(window, num_shape):\n",
    "    X_train_ = np.reshape(train_scaled[i-window:i, 0], (window, 1))\n",
    "    X_train.append(X_train_)\n",
    "    y_train.append(train_scaled[i, 0])\n",
    "X_train = np.stack(X_train)\n",
    "y_train = np.stack(y_train)"
   ]
  },
  {
   "cell_type": "code",
   "execution_count": 511,
   "metadata": {},
   "outputs": [
    {
     "name": "stdout",
     "output_type": "stream",
     "text": [
      "Model: \"sequential_18\"\n",
      "_________________________________________________________________\n",
      " Layer (type)                Output Shape              Param #   \n",
      "=================================================================\n",
      " lstm_36 (LSTM)              (None, 3, 50)             10400     \n",
      "                                                                 \n",
      " dropout_72 (Dropout)        (None, 3, 50)             0         \n",
      "                                                                 \n",
      " lstm_37 (LSTM)              (None, 3, 50)             20200     \n",
      "                                                                 \n",
      " dropout_73 (Dropout)        (None, 3, 50)             0         \n",
      "                                                                 \n",
      " lstm_38 (LSTM)              (None, 3, 50)             20200     \n",
      "                                                                 \n",
      " dropout_74 (Dropout)        (None, 3, 50)             0         \n",
      "                                                                 \n",
      " lstm_39 (LSTM)              (None, 50)                20200     \n",
      "                                                                 \n",
      " dropout_75 (Dropout)        (None, 50)                0         \n",
      "                                                                 \n",
      " dense_18 (Dense)            (None, 1)                 51        \n",
      "                                                                 \n",
      "=================================================================\n",
      "Total params: 71,051\n",
      "Trainable params: 71,051\n",
      "Non-trainable params: 0\n",
      "_________________________________________________________________\n"
     ]
    }
   ],
   "source": [
    "# Initializing the Recurrent Neural Network\n",
    "model = Sequential()\n",
    "#Adding the first LSTM layer with a sigmoid activation function and some Dropout regularization\n",
    "#Units - dimensionality of the output space\n",
    "\n",
    "model.add(LSTM(units = 50, return_sequences = True, input_shape = (X_train.shape[1], 1)))\n",
    "model.add(Dropout(0.2))\n",
    "\n",
    "model.add(LSTM(units = 50, return_sequences = True))\n",
    "model.add(Dropout(0.2))\n",
    "\n",
    "model.add(LSTM(units = 50, return_sequences = True))\n",
    "model.add(Dropout(0.2))\n",
    "\n",
    "model.add(LSTM(units = 50))\n",
    "model.add(Dropout(0.2))\n",
    "\n",
    "# Adding the output layer\n",
    "model.add(Dense(units = 1))\n",
    "model.summary()"
   ]
  },
  {
   "cell_type": "code",
   "execution_count": 512,
   "metadata": {},
   "outputs": [
    {
     "name": "stdout",
     "output_type": "stream",
     "text": [
      "Epoch 1/100\n",
      "6/6 [==============================] - 9s 22ms/step - loss: 0.4455\n",
      "Epoch 2/100\n",
      "6/6 [==============================] - 0s 24ms/step - loss: 0.3868\n",
      "Epoch 3/100\n",
      "6/6 [==============================] - 0s 20ms/step - loss: 0.3005\n",
      "Epoch 4/100\n",
      "6/6 [==============================] - 0s 20ms/step - loss: 0.2000\n",
      "Epoch 5/100\n",
      "6/6 [==============================] - 0s 17ms/step - loss: 0.1261\n",
      "Epoch 6/100\n",
      "6/6 [==============================] - 0s 20ms/step - loss: 0.0898\n",
      "Epoch 7/100\n",
      "6/6 [==============================] - 0s 21ms/step - loss: 0.0785\n",
      "Epoch 8/100\n",
      "6/6 [==============================] - 0s 19ms/step - loss: 0.0842\n",
      "Epoch 9/100\n",
      "6/6 [==============================] - 0s 19ms/step - loss: 0.0839\n",
      "Epoch 10/100\n",
      "6/6 [==============================] - 0s 19ms/step - loss: 0.0925\n",
      "Epoch 11/100\n",
      "6/6 [==============================] - 0s 15ms/step - loss: 0.0911\n",
      "Epoch 12/100\n",
      "6/6 [==============================] - 0s 21ms/step - loss: 0.0903\n",
      "Epoch 13/100\n",
      "6/6 [==============================] - 0s 21ms/step - loss: 0.0873\n",
      "Epoch 14/100\n",
      "6/6 [==============================] - 0s 19ms/step - loss: 0.0874\n",
      "Epoch 15/100\n",
      "6/6 [==============================] - 0s 20ms/step - loss: 0.0799\n",
      "Epoch 16/100\n",
      "6/6 [==============================] - 0s 21ms/step - loss: 0.0942\n",
      "Epoch 17/100\n",
      "6/6 [==============================] - 0s 18ms/step - loss: 0.0788\n",
      "Epoch 18/100\n",
      "6/6 [==============================] - 0s 15ms/step - loss: 0.0845\n",
      "Epoch 19/100\n",
      "6/6 [==============================] - 0s 18ms/step - loss: 0.0818\n",
      "Epoch 20/100\n",
      "6/6 [==============================] - 0s 18ms/step - loss: 0.0821\n",
      "Epoch 21/100\n",
      "6/6 [==============================] - 0s 23ms/step - loss: 0.0882\n",
      "Epoch 22/100\n",
      "6/6 [==============================] - 0s 18ms/step - loss: 0.0902\n",
      "Epoch 23/100\n",
      "6/6 [==============================] - 0s 17ms/step - loss: 0.0929\n",
      "Epoch 24/100\n",
      "6/6 [==============================] - 0s 20ms/step - loss: 0.0784\n",
      "Epoch 25/100\n",
      "6/6 [==============================] - 0s 17ms/step - loss: 0.0918\n",
      "Epoch 26/100\n",
      "6/6 [==============================] - 0s 17ms/step - loss: 0.0928\n",
      "Epoch 27/100\n",
      "6/6 [==============================] - 0s 16ms/step - loss: 0.0775\n",
      "Epoch 28/100\n",
      "6/6 [==============================] - 0s 17ms/step - loss: 0.0852\n",
      "Epoch 29/100\n",
      "6/6 [==============================] - 0s 18ms/step - loss: 0.0860\n",
      "Epoch 30/100\n",
      "6/6 [==============================] - 0s 19ms/step - loss: 0.0831\n",
      "Epoch 31/100\n",
      "6/6 [==============================] - 0s 18ms/step - loss: 0.0872\n",
      "Epoch 32/100\n",
      "6/6 [==============================] - 0s 20ms/step - loss: 0.0853\n",
      "Epoch 33/100\n",
      "6/6 [==============================] - 0s 18ms/step - loss: 0.0774\n",
      "Epoch 34/100\n",
      "6/6 [==============================] - 0s 18ms/step - loss: 0.0863\n",
      "Epoch 35/100\n",
      "6/6 [==============================] - 0s 16ms/step - loss: 0.0731\n",
      "Epoch 36/100\n",
      "6/6 [==============================] - 0s 23ms/step - loss: 0.0783\n",
      "Epoch 37/100\n",
      "6/6 [==============================] - 0s 15ms/step - loss: 0.0850\n",
      "Epoch 38/100\n",
      "6/6 [==============================] - 0s 16ms/step - loss: 0.0867\n",
      "Epoch 39/100\n",
      "6/6 [==============================] - 0s 18ms/step - loss: 0.0732\n",
      "Epoch 40/100\n",
      "6/6 [==============================] - 0s 17ms/step - loss: 0.0850\n",
      "Epoch 41/100\n",
      "6/6 [==============================] - 0s 18ms/step - loss: 0.0792\n",
      "Epoch 42/100\n",
      "6/6 [==============================] - 0s 19ms/step - loss: 0.0829\n",
      "Epoch 43/100\n",
      "6/6 [==============================] - 0s 18ms/step - loss: 0.0917\n",
      "Epoch 44/100\n",
      "6/6 [==============================] - 0s 18ms/step - loss: 0.0764\n",
      "Epoch 45/100\n",
      "6/6 [==============================] - 0s 17ms/step - loss: 0.0769\n",
      "Epoch 46/100\n",
      "6/6 [==============================] - 0s 19ms/step - loss: 0.0684\n",
      "Epoch 47/100\n",
      "6/6 [==============================] - 0s 19ms/step - loss: 0.0741\n",
      "Epoch 48/100\n",
      "6/6 [==============================] - 0s 16ms/step - loss: 0.0892\n",
      "Epoch 49/100\n",
      "6/6 [==============================] - 0s 18ms/step - loss: 0.0899\n",
      "Epoch 50/100\n",
      "6/6 [==============================] - 0s 15ms/step - loss: 0.0771\n",
      "Epoch 51/100\n",
      "6/6 [==============================] - 0s 26ms/step - loss: 0.0770\n",
      "Epoch 52/100\n",
      "6/6 [==============================] - 0s 18ms/step - loss: 0.0868\n",
      "Epoch 53/100\n",
      "6/6 [==============================] - 0s 17ms/step - loss: 0.0838\n",
      "Epoch 54/100\n",
      "6/6 [==============================] - 0s 16ms/step - loss: 0.0743\n",
      "Epoch 55/100\n",
      "6/6 [==============================] - 0s 19ms/step - loss: 0.0979\n",
      "Epoch 56/100\n",
      "6/6 [==============================] - 0s 18ms/step - loss: 0.0818\n",
      "Epoch 57/100\n",
      "6/6 [==============================] - 0s 19ms/step - loss: 0.0983\n",
      "Epoch 58/100\n",
      "6/6 [==============================] - 0s 19ms/step - loss: 0.0846\n",
      "Epoch 59/100\n",
      "6/6 [==============================] - 0s 18ms/step - loss: 0.0849\n",
      "Epoch 60/100\n",
      "6/6 [==============================] - 0s 16ms/step - loss: 0.0721\n",
      "Epoch 61/100\n",
      "6/6 [==============================] - 0s 17ms/step - loss: 0.0889\n",
      "Epoch 62/100\n",
      "6/6 [==============================] - 0s 18ms/step - loss: 0.0869\n",
      "Epoch 63/100\n",
      "6/6 [==============================] - 0s 15ms/step - loss: 0.1045\n",
      "Epoch 64/100\n",
      "6/6 [==============================] - 0s 19ms/step - loss: 0.0861\n",
      "Epoch 65/100\n",
      "6/6 [==============================] - 0s 16ms/step - loss: 0.0758\n",
      "Epoch 66/100\n",
      "6/6 [==============================] - 0s 19ms/step - loss: 0.0702\n",
      "Epoch 67/100\n",
      "6/6 [==============================] - 0s 20ms/step - loss: 0.0833\n",
      "Epoch 68/100\n",
      "6/6 [==============================] - 0s 19ms/step - loss: 0.0906\n",
      "Epoch 69/100\n",
      "6/6 [==============================] - 0s 18ms/step - loss: 0.0820\n",
      "Epoch 70/100\n",
      "6/6 [==============================] - 0s 18ms/step - loss: 0.0651\n",
      "Epoch 71/100\n",
      "6/6 [==============================] - 0s 16ms/step - loss: 0.0727\n",
      "Epoch 72/100\n",
      "6/6 [==============================] - 0s 18ms/step - loss: 0.0613\n",
      "Epoch 73/100\n",
      "6/6 [==============================] - 0s 21ms/step - loss: 0.0773\n",
      "Epoch 74/100\n",
      "6/6 [==============================] - 0s 16ms/step - loss: 0.0910\n",
      "Epoch 75/100\n",
      "6/6 [==============================] - 0s 15ms/step - loss: 0.0689\n",
      "Epoch 76/100\n",
      "6/6 [==============================] - 0s 18ms/step - loss: 0.0820\n",
      "Epoch 77/100\n",
      "6/6 [==============================] - 0s 16ms/step - loss: 0.0826\n",
      "Epoch 78/100\n",
      "6/6 [==============================] - 0s 19ms/step - loss: 0.0799\n",
      "Epoch 79/100\n",
      "6/6 [==============================] - 0s 16ms/step - loss: 0.0830\n",
      "Epoch 80/100\n",
      "6/6 [==============================] - 0s 15ms/step - loss: 0.0826\n",
      "Epoch 81/100\n",
      "6/6 [==============================] - 0s 17ms/step - loss: 0.0711\n",
      "Epoch 82/100\n",
      "6/6 [==============================] - 0s 19ms/step - loss: 0.0848\n",
      "Epoch 83/100\n",
      "6/6 [==============================] - 0s 24ms/step - loss: 0.0760\n",
      "Epoch 84/100\n",
      "6/6 [==============================] - 0s 14ms/step - loss: 0.0653\n",
      "Epoch 85/100\n",
      "6/6 [==============================] - 0s 17ms/step - loss: 0.0667\n",
      "Epoch 86/100\n",
      "6/6 [==============================] - 0s 19ms/step - loss: 0.0780\n",
      "Epoch 87/100\n",
      "6/6 [==============================] - 0s 16ms/step - loss: 0.0724\n",
      "Epoch 88/100\n",
      "6/6 [==============================] - 0s 23ms/step - loss: 0.0699\n",
      "Epoch 89/100\n",
      "6/6 [==============================] - 0s 17ms/step - loss: 0.0676\n",
      "Epoch 90/100\n",
      "6/6 [==============================] - 0s 15ms/step - loss: 0.0600\n",
      "Epoch 91/100\n",
      "6/6 [==============================] - 0s 15ms/step - loss: 0.0785\n",
      "Epoch 92/100\n",
      "6/6 [==============================] - 0s 15ms/step - loss: 0.0600\n",
      "Epoch 93/100\n",
      "6/6 [==============================] - 0s 15ms/step - loss: 0.0660\n",
      "Epoch 94/100\n",
      "6/6 [==============================] - 0s 15ms/step - loss: 0.0873\n",
      "Epoch 95/100\n",
      "6/6 [==============================] - 0s 16ms/step - loss: 0.0629\n",
      "Epoch 96/100\n",
      "6/6 [==============================] - 0s 16ms/step - loss: 0.0716\n",
      "Epoch 97/100\n",
      "6/6 [==============================] - 0s 14ms/step - loss: 0.0541\n",
      "Epoch 98/100\n",
      "6/6 [==============================] - 0s 22ms/step - loss: 0.0623\n",
      "Epoch 99/100\n",
      "6/6 [==============================] - 0s 22ms/step - loss: 0.0613\n",
      "Epoch 100/100\n",
      "6/6 [==============================] - 0s 16ms/step - loss: 0.0760\n"
     ]
    }
   ],
   "source": [
    "model.compile(optimizer = 'adam', loss = 'mean_squared_error')\n",
    "model.fit(X_train, y_train, epochs = 100, batch_size = 3);"
   ]
  },
  {
   "cell_type": "code",
   "execution_count": 513,
   "metadata": {},
   "outputs": [],
   "source": [
    "df_volume = np.vstack((train, test))\n",
    "\n",
    "inputs = df_volume[df_volume.shape[0] - test.shape[0] - window:]\n",
    "inputs = inputs.reshape(-1,1)\n",
    "inputs = sc.transform(inputs)\n",
    "\n",
    "num_2 = df_volume.shape[0] - num_shape + window\n",
    "\n",
    "X_test = []\n",
    "\n",
    "for i in range(window, num_2):\n",
    "    X_test_ = np.reshape(inputs[i-window:i, 0], (window, 1))\n",
    "    X_test.append(X_test_)\n",
    "   \n",
    "X_test = np.stack(X_test)"
   ]
  },
  {
   "cell_type": "code",
   "execution_count": 514,
   "metadata": {},
   "outputs": [],
   "source": [
    "predict = model.predict(X_test)\n",
    "predict = sc.inverse_transform(predict)"
   ]
  },
  {
   "cell_type": "code",
   "execution_count": 515,
   "metadata": {},
   "outputs": [
    {
     "data": {
      "text/plain": [
       "array([[227.11633],\n",
       "       [227.11633],\n",
       "       [227.11633],\n",
       "       [227.11633],\n",
       "       [227.11633],\n",
       "       [227.11633],\n",
       "       [227.11633],\n",
       "       [225.64833],\n",
       "       [224.50255],\n",
       "       [223.86499],\n",
       "       [223.86499],\n",
       "       [223.86499],\n",
       "       [223.86499],\n",
       "       [223.86499],\n",
       "       [223.86499],\n",
       "       [223.86499],\n",
       "       [223.86499],\n",
       "       [223.86499],\n",
       "       [223.86499],\n",
       "       [230.00665],\n",
       "       [240.00607],\n",
       "       [243.67224],\n",
       "       [243.67224],\n",
       "       [243.67224],\n",
       "       [243.67224],\n",
       "       [243.67224],\n",
       "       [243.67224],\n",
       "       [243.67224]], dtype=float32)"
      ]
     },
     "execution_count": 515,
     "metadata": {},
     "output_type": "execute_result"
    }
   ],
   "source": [
    "predict"
   ]
  },
  {
   "cell_type": "code",
   "execution_count": 516,
   "metadata": {},
   "outputs": [
    {
     "name": "stdout",
     "output_type": "stream",
     "text": [
      "MSE: 20.982636224678053\n",
      "MAE: 2.2404512677873885\n",
      "RMSE: 4.580680759961128\n"
     ]
    }
   ],
   "source": [
    "diff = predict - test\n",
    "\n",
    "print(\"MSE:\", np.mean(diff**2))\n",
    "print(\"MAE:\", np.mean(abs(diff)))\n",
    "print(\"RMSE:\", np.sqrt(np.mean(diff**2)))"
   ]
  },
  {
   "cell_type": "code",
   "execution_count": 517,
   "metadata": {},
   "outputs": [],
   "source": [
    "pred_ = predict[-1].copy()\n",
    "prediction_full = []\n",
    "window = 3\n",
    "df_copy = df_news_price_tweets.iloc[:, 1:2][1:].values\n",
    "\n",
    "for j in range(10):\n",
    "    df_ = np.vstack((df_copy, pred_))\n",
    "    train_ = df_[:num_shape]\n",
    "    test_ = df_[num_shape:]\n",
    "    \n",
    "    df_volume_ = np.vstack((train_, test_))\n",
    "\n",
    "    inputs_ = df_volume_[df_volume_.shape[0] - test_.shape[0] - window:]\n",
    "    inputs_ = inputs_.reshape(-1,1)\n",
    "    inputs_ = sc.transform(inputs_)\n",
    "\n",
    "    X_test_2 = []\n",
    "\n",
    "    for k in range(window, num_2):\n",
    "        X_test_3 = np.reshape(inputs_[k-window:k, 0], (window, 1))\n",
    "        X_test_2.append(X_test_3)\n",
    "\n",
    "    X_test_ = np.stack(X_test_2)\n",
    "    predict_ = model.predict(X_test_)\n",
    "    pred_ = sc.inverse_transform(predict_)\n",
    "    prediction_full.append(pred_[-1][0])\n",
    "    df_copy = df_[j:]"
   ]
  },
  {
   "cell_type": "code",
   "execution_count": 518,
   "metadata": {},
   "outputs": [],
   "source": [
    "df_date_LSTM = df_news_price_tweets[['Date']]\n",
    "\n",
    "for h in range(10):\n",
    "    df_date_add = pd.to_datetime(df_date_LSTM['Date'].iloc[-1]) + pd.DateOffset(days=1)\n",
    "    df_date_add = pd.DataFrame([df_date_add.strftime(\"%Y-%m-%d\")], columns=['Date'])\n",
    "    df_date_LSTM = df_date_LSTM.append(df_date_add)\n",
    "df_date_LSTM = df_date_LSTM.reset_index(drop=True)\n",
    "df_date_LSTM=df_date_LSTM.iloc[-10:]\n",
    "df_date_LSTM['Prediction']=prediction_full"
   ]
  },
  {
   "cell_type": "code",
   "execution_count": 519,
   "metadata": {},
   "outputs": [
    {
     "data": {
      "text/html": [
       "<div>\n",
       "<style scoped>\n",
       "    .dataframe tbody tr th:only-of-type {\n",
       "        vertical-align: middle;\n",
       "    }\n",
       "\n",
       "    .dataframe tbody tr th {\n",
       "        vertical-align: top;\n",
       "    }\n",
       "\n",
       "    .dataframe thead th {\n",
       "        text-align: right;\n",
       "    }\n",
       "</style>\n",
       "<table border=\"1\" class=\"dataframe\">\n",
       "  <thead>\n",
       "    <tr style=\"text-align: right;\">\n",
       "      <th></th>\n",
       "      <th>Date</th>\n",
       "      <th>Prediction</th>\n",
       "    </tr>\n",
       "  </thead>\n",
       "  <tbody>\n",
       "    <tr>\n",
       "      <th>48</th>\n",
       "      <td>2022-11-12</td>\n",
       "      <td>247.218094</td>\n",
       "    </tr>\n",
       "    <tr>\n",
       "      <th>49</th>\n",
       "      <td>2022-11-13</td>\n",
       "      <td>247.218094</td>\n",
       "    </tr>\n",
       "    <tr>\n",
       "      <th>50</th>\n",
       "      <td>2022-11-14</td>\n",
       "      <td>245.750198</td>\n",
       "    </tr>\n",
       "    <tr>\n",
       "      <th>51</th>\n",
       "      <td>2022-11-15</td>\n",
       "      <td>227.559616</td>\n",
       "    </tr>\n",
       "    <tr>\n",
       "      <th>52</th>\n",
       "      <td>2022-11-16</td>\n",
       "      <td>225.678116</td>\n",
       "    </tr>\n",
       "    <tr>\n",
       "      <th>53</th>\n",
       "      <td>2022-11-17</td>\n",
       "      <td>223.887680</td>\n",
       "    </tr>\n",
       "    <tr>\n",
       "      <th>54</th>\n",
       "      <td>2022-11-18</td>\n",
       "      <td>223.471939</td>\n",
       "    </tr>\n",
       "    <tr>\n",
       "      <th>55</th>\n",
       "      <td>2022-11-19</td>\n",
       "      <td>231.256195</td>\n",
       "    </tr>\n",
       "    <tr>\n",
       "      <th>56</th>\n",
       "      <td>2022-11-20</td>\n",
       "      <td>244.542953</td>\n",
       "    </tr>\n",
       "    <tr>\n",
       "      <th>57</th>\n",
       "      <td>2022-11-21</td>\n",
       "      <td>225.240692</td>\n",
       "    </tr>\n",
       "  </tbody>\n",
       "</table>\n",
       "</div>"
      ],
      "text/plain": [
       "          Date  Prediction\n",
       "48  2022-11-12  247.218094\n",
       "49  2022-11-13  247.218094\n",
       "50  2022-11-14  245.750198\n",
       "51  2022-11-15  227.559616\n",
       "52  2022-11-16  225.678116\n",
       "53  2022-11-17  223.887680\n",
       "54  2022-11-18  223.471939\n",
       "55  2022-11-19  231.256195\n",
       "56  2022-11-20  244.542953\n",
       "57  2022-11-21  225.240692"
      ]
     },
     "execution_count": 519,
     "metadata": {},
     "output_type": "execute_result"
    }
   ],
   "source": [
    "df_date_LSTM"
   ]
  },
  {
   "cell_type": "code",
   "execution_count": 520,
   "metadata": {},
   "outputs": [],
   "source": [
    "import matplotlib.pyplot as plt"
   ]
  },
  {
   "cell_type": "code",
   "execution_count": 521,
   "metadata": {},
   "outputs": [
    {
     "data": {
      "text/plain": [
       "<Figure size 432x288 with 0 Axes>"
      ]
     },
     "metadata": {},
     "output_type": "display_data"
    },
    {
     "data": {
      "image/png": "[encoded data removed]",
      "text/plain": [
       "<Figure size 432x288 with 1 Axes>"
      ]
     },
     "metadata": {
      "needs_background": "light"
     },
     "output_type": "display_data"
    }
   ],
   "source": [
    "plt.figure()\n",
    "df_date_LSTM.plot(x='Date',y='Prediction', color = 'blue', label = 'Predicted Price')\n",
    "plt.title('Stock Price Prediction')\n",
    "plt.xlabel('Date')\n",
    "plt.ylabel('Price (Rs.)')\n",
    "plt.legend()\n",
    "plt.show()"
   ]
  },
  {
   "cell_type": "code",
   "execution_count": 522,
   "metadata": {},
   "outputs": [
    {
     "name": "stdout",
     "output_type": "stream",
     "text": [
      "Model: \"sequential_19\"\n",
      "_________________________________________________________________\n",
      " Layer (type)                Output Shape              Param #   \n",
      "=================================================================\n",
      " gru_36 (GRU)                (None, 3, 50)             7950      \n",
      "                                                                 \n",
      " dropout_76 (Dropout)        (None, 3, 50)             0         \n",
      "                                                                 \n",
      " gru_37 (GRU)                (None, 3, 50)             15300     \n",
      "                                                                 \n",
      " dropout_77 (Dropout)        (None, 3, 50)             0         \n",
      "                                                                 \n",
      " gru_38 (GRU)                (None, 3, 50)             15300     \n",
      "                                                                 \n",
      " dropout_78 (Dropout)        (None, 3, 50)             0         \n",
      "                                                                 \n",
      " gru_39 (GRU)                (None, 50)                15300     \n",
      "                                                                 \n",
      " dropout_79 (Dropout)        (None, 50)                0         \n",
      "                                                                 \n",
      " dense_19 (Dense)            (None, 1)                 51        \n",
      "                                                                 \n",
      "=================================================================\n",
      "Total params: 53,901\n",
      "Trainable params: 53,901\n",
      "Non-trainable params: 0\n",
      "_________________________________________________________________\n"
     ]
    }
   ],
   "source": [
    "# The GRU architecture\n",
    "modelGRU = Sequential()\n",
    "\n",
    "modelGRU.add(GRU(units=50, return_sequences=True, input_shape=(X_train.shape[1],1)))\n",
    "modelGRU.add(Dropout(0.2))\n",
    "\n",
    "modelGRU.add(GRU(units=50, return_sequences=True, input_shape=(X_train.shape[1],1)))\n",
    "modelGRU.add(Dropout(0.2))\n",
    "\n",
    "modelGRU.add(GRU(units=50, return_sequences=True, input_shape=(X_train.shape[1],1)))\n",
    "modelGRU.add(Dropout(0.2))\n",
    "\n",
    "modelGRU.add(GRU(units=50))\n",
    "modelGRU.add(Dropout(0.2))\n",
    "\n",
    "modelGRU.add(Dense(units=1))\n",
    "modelGRU.summary()"
   ]
  },
  {
   "cell_type": "code",
   "execution_count": 523,
   "metadata": {},
   "outputs": [
    {
     "name": "stdout",
     "output_type": "stream",
     "text": [
      "Epoch 1/100\n",
      "6/6 [==============================] - 8s 18ms/step - loss: 0.3368\n",
      "Epoch 2/100\n",
      "6/6 [==============================] - 0s 30ms/step - loss: 0.1360\n",
      "Epoch 3/100\n",
      "6/6 [==============================] - 0s 24ms/step - loss: 0.1184\n",
      "Epoch 4/100\n",
      "6/6 [==============================] - 0s 21ms/step - loss: 0.1092\n",
      "Epoch 5/100\n",
      "6/6 [==============================] - 0s 20ms/step - loss: 0.0836\n",
      "Epoch 6/100\n",
      "6/6 [==============================] - 0s 19ms/step - loss: 0.0869\n",
      "Epoch 7/100\n",
      "6/6 [==============================] - 0s 20ms/step - loss: 0.0984\n",
      "Epoch 8/100\n",
      "6/6 [==============================] - 0s 19ms/step - loss: 0.0795\n",
      "Epoch 9/100\n",
      "6/6 [==============================] - 0s 18ms/step - loss: 0.0768\n",
      "Epoch 10/100\n",
      "6/6 [==============================] - 0s 18ms/step - loss: 0.0729\n",
      "Epoch 11/100\n",
      "6/6 [==============================] - 0s 17ms/step - loss: 0.0821\n",
      "Epoch 12/100\n",
      "6/6 [==============================] - 0s 17ms/step - loss: 0.0874\n",
      "Epoch 13/100\n",
      "6/6 [==============================] - 0s 23ms/step - loss: 0.0773\n",
      "Epoch 14/100\n",
      "6/6 [==============================] - 0s 18ms/step - loss: 0.0736\n",
      "Epoch 15/100\n",
      "6/6 [==============================] - 0s 16ms/step - loss: 0.0830\n",
      "Epoch 16/100\n",
      "6/6 [==============================] - 0s 14ms/step - loss: 0.0787\n",
      "Epoch 17/100\n",
      "6/6 [==============================] - 0s 19ms/step - loss: 0.0857\n",
      "Epoch 18/100\n",
      "6/6 [==============================] - 0s 30ms/step - loss: 0.0702\n",
      "Epoch 19/100\n",
      "6/6 [==============================] - 0s 21ms/step - loss: 0.0769\n",
      "Epoch 20/100\n",
      "6/6 [==============================] - 0s 22ms/step - loss: 0.0797\n",
      "Epoch 21/100\n",
      "6/6 [==============================] - 0s 22ms/step - loss: 0.0703\n",
      "Epoch 22/100\n",
      "6/6 [==============================] - 0s 20ms/step - loss: 0.0847\n",
      "Epoch 23/100\n",
      "6/6 [==============================] - 0s 14ms/step - loss: 0.0899\n",
      "Epoch 24/100\n",
      "6/6 [==============================] - 0s 15ms/step - loss: 0.0639\n",
      "Epoch 25/100\n",
      "6/6 [==============================] - 0s 18ms/step - loss: 0.0672\n",
      "Epoch 26/100\n",
      "6/6 [==============================] - 0s 27ms/step - loss: 0.0621\n",
      "Epoch 27/100\n",
      "6/6 [==============================] - 0s 26ms/step - loss: 0.0770\n",
      "Epoch 28/100\n",
      "6/6 [==============================] - 0s 12ms/step - loss: 0.0772\n",
      "Epoch 29/100\n",
      "6/6 [==============================] - 0s 18ms/step - loss: 0.0728\n",
      "Epoch 30/100\n",
      "6/6 [==============================] - 0s 20ms/step - loss: 0.0793\n",
      "Epoch 31/100\n",
      "6/6 [==============================] - 0s 25ms/step - loss: 0.0615\n",
      "Epoch 32/100\n",
      "6/6 [==============================] - 0s 18ms/step - loss: 0.0749\n",
      "Epoch 33/100\n",
      "6/6 [==============================] - 0s 22ms/step - loss: 0.0620\n",
      "Epoch 34/100\n",
      "6/6 [==============================] - 0s 23ms/step - loss: 0.0767\n",
      "Epoch 35/100\n",
      "6/6 [==============================] - 0s 28ms/step - loss: 0.0595\n",
      "Epoch 36/100\n",
      "6/6 [==============================] - 0s 24ms/step - loss: 0.0647\n",
      "Epoch 37/100\n",
      "6/6 [==============================] - 0s 28ms/step - loss: 0.0683\n",
      "Epoch 38/100\n",
      "6/6 [==============================] - 0s 25ms/step - loss: 0.0922\n",
      "Epoch 39/100\n",
      "6/6 [==============================] - 0s 25ms/step - loss: 0.0530\n",
      "Epoch 40/100\n",
      "6/6 [==============================] - 0s 18ms/step - loss: 0.0659\n",
      "Epoch 41/100\n",
      "6/6 [==============================] - 0s 19ms/step - loss: 0.0684\n",
      "Epoch 42/100\n",
      "6/6 [==============================] - 0s 18ms/step - loss: 0.0663\n",
      "Epoch 43/100\n",
      "6/6 [==============================] - 0s 19ms/step - loss: 0.0516\n",
      "Epoch 44/100\n",
      "6/6 [==============================] - 0s 25ms/step - loss: 0.0410\n",
      "Epoch 45/100\n",
      "6/6 [==============================] - 0s 17ms/step - loss: 0.0670\n",
      "Epoch 46/100\n",
      "6/6 [==============================] - 0s 15ms/step - loss: 0.0507\n",
      "Epoch 47/100\n",
      "6/6 [==============================] - 0s 21ms/step - loss: 0.0405\n",
      "Epoch 48/100\n",
      "6/6 [==============================] - 0s 22ms/step - loss: 0.0487\n",
      "Epoch 49/100\n",
      "6/6 [==============================] - 0s 17ms/step - loss: 0.0386\n",
      "Epoch 50/100\n",
      "6/6 [==============================] - 0s 15ms/step - loss: 0.0449\n",
      "Epoch 51/100\n",
      "6/6 [==============================] - 0s 19ms/step - loss: 0.0337\n",
      "Epoch 52/100\n",
      "6/6 [==============================] - 0s 19ms/step - loss: 0.0448\n",
      "Epoch 53/100\n",
      "6/6 [==============================] - 0s 28ms/step - loss: 0.0393\n",
      "Epoch 54/100\n",
      "6/6 [==============================] - 0s 16ms/step - loss: 0.0364\n",
      "Epoch 55/100\n",
      "6/6 [==============================] - 0s 22ms/step - loss: 0.0366\n",
      "Epoch 56/100\n",
      "6/6 [==============================] - 0s 26ms/step - loss: 0.0262\n",
      "Epoch 57/100\n",
      "6/6 [==============================] - 0s 25ms/step - loss: 0.0239\n",
      "Epoch 58/100\n",
      "6/6 [==============================] - 0s 15ms/step - loss: 0.0335\n",
      "Epoch 59/100\n",
      "6/6 [==============================] - 0s 40ms/step - loss: 0.0297\n",
      "Epoch 60/100\n",
      "6/6 [==============================] - 0s 24ms/step - loss: 0.0357\n",
      "Epoch 61/100\n",
      "6/6 [==============================] - 0s 16ms/step - loss: 0.0343\n",
      "Epoch 62/100\n",
      "6/6 [==============================] - 0s 20ms/step - loss: 0.0374\n",
      "Epoch 63/100\n",
      "6/6 [==============================] - 0s 17ms/step - loss: 0.0327\n",
      "Epoch 64/100\n",
      "6/6 [==============================] - 0s 20ms/step - loss: 0.0224\n",
      "Epoch 65/100\n",
      "6/6 [==============================] - 0s 21ms/step - loss: 0.0290\n",
      "Epoch 66/100\n",
      "6/6 [==============================] - 0s 18ms/step - loss: 0.0268\n",
      "Epoch 67/100\n",
      "6/6 [==============================] - 0s 20ms/step - loss: 0.0276\n",
      "Epoch 68/100\n",
      "6/6 [==============================] - 0s 24ms/step - loss: 0.0278\n",
      "Epoch 69/100\n",
      "6/6 [==============================] - 0s 22ms/step - loss: 0.0290\n",
      "Epoch 70/100\n",
      "6/6 [==============================] - 0s 20ms/step - loss: 0.0209\n",
      "Epoch 71/100\n",
      "6/6 [==============================] - 0s 22ms/step - loss: 0.0300\n",
      "Epoch 72/100\n",
      "6/6 [==============================] - 0s 16ms/step - loss: 0.0298\n",
      "Epoch 73/100\n",
      "6/6 [==============================] - 0s 18ms/step - loss: 0.0233\n",
      "Epoch 74/100\n",
      "6/6 [==============================] - 0s 19ms/step - loss: 0.0287\n",
      "Epoch 75/100\n",
      "6/6 [==============================] - 0s 22ms/step - loss: 0.0200\n",
      "Epoch 76/100\n",
      "6/6 [==============================] - 0s 20ms/step - loss: 0.0270\n",
      "Epoch 77/100\n",
      "6/6 [==============================] - 0s 18ms/step - loss: 0.0220\n",
      "Epoch 78/100\n",
      "6/6 [==============================] - 0s 19ms/step - loss: 0.0343\n",
      "Epoch 79/100\n",
      "6/6 [==============================] - 0s 24ms/step - loss: 0.0263\n",
      "Epoch 80/100\n",
      "6/6 [==============================] - 0s 24ms/step - loss: 0.0306\n",
      "Epoch 81/100\n",
      "6/6 [==============================] - 0s 22ms/step - loss: 0.0219\n",
      "Epoch 82/100\n",
      "6/6 [==============================] - 0s 19ms/step - loss: 0.0286\n",
      "Epoch 83/100\n",
      "6/6 [==============================] - 0s 20ms/step - loss: 0.0219\n",
      "Epoch 84/100\n",
      "6/6 [==============================] - 0s 18ms/step - loss: 0.0228\n",
      "Epoch 85/100\n",
      "6/6 [==============================] - 0s 27ms/step - loss: 0.0215\n",
      "Epoch 86/100\n",
      "6/6 [==============================] - 0s 21ms/step - loss: 0.0260\n",
      "Epoch 87/100\n",
      "6/6 [==============================] - 0s 18ms/step - loss: 0.0143\n",
      "Epoch 88/100\n",
      "6/6 [==============================] - 0s 17ms/step - loss: 0.0150\n",
      "Epoch 89/100\n",
      "6/6 [==============================] - 0s 20ms/step - loss: 0.0222\n",
      "Epoch 90/100\n",
      "6/6 [==============================] - 0s 20ms/step - loss: 0.0218\n",
      "Epoch 91/100\n",
      "6/6 [==============================] - 0s 19ms/step - loss: 0.0248\n",
      "Epoch 92/100\n",
      "6/6 [==============================] - 0s 17ms/step - loss: 0.0207\n",
      "Epoch 93/100\n",
      "6/6 [==============================] - 0s 18ms/step - loss: 0.0174\n",
      "Epoch 94/100\n",
      "6/6 [==============================] - 0s 22ms/step - loss: 0.0185\n",
      "Epoch 95/100\n",
      "6/6 [==============================] - 0s 19ms/step - loss: 0.0166\n",
      "Epoch 96/100\n",
      "6/6 [==============================] - 0s 22ms/step - loss: 0.0243\n",
      "Epoch 97/100\n",
      "6/6 [==============================] - 0s 22ms/step - loss: 0.0199\n",
      "Epoch 98/100\n",
      "6/6 [==============================] - 0s 18ms/step - loss: 0.0202\n",
      "Epoch 99/100\n",
      "6/6 [==============================] - 0s 20ms/step - loss: 0.0174\n",
      "Epoch 100/100\n",
      "6/6 [==============================] - 0s 21ms/step - loss: 0.0077\n"
     ]
    },
    {
     "data": {
      "text/plain": [
       "<keras.callbacks.History at 0x7fe04310eb80>"
      ]
     },
     "execution_count": 523,
     "metadata": {},
     "output_type": "execute_result"
    }
   ],
   "source": [
    "modelGRU.compile(optimizer='adam', loss='mean_squared_error')\n",
    "modelGRU.fit(X_train, y_train, epochs=100, batch_size=3)"
   ]
  },
  {
   "cell_type": "code",
   "execution_count": 524,
   "metadata": {},
   "outputs": [],
   "source": [
    "predictGRU = modelGRU.predict(X_test)\n",
    "predictGRU = sc.inverse_transform(predictGRU)"
   ]
  },
  {
   "cell_type": "code",
   "execution_count": 525,
   "metadata": {},
   "outputs": [
    {
     "name": "stdout",
     "output_type": "stream",
     "text": [
      "MSE: 15.877101374016743\n",
      "MAE: 2.306928907121931\n",
      "RMSE: 3.9846080577663776\n"
     ]
    }
   ],
   "source": [
    "diff = predictGRU - test\n",
    "print(\"MSE:\", np.mean(diff**2))\n",
    "print(\"MAE:\", np.mean(abs(diff)))\n",
    "print(\"RMSE:\", np.sqrt(np.mean(diff**2)))"
   ]
  },
  {
   "cell_type": "code",
   "execution_count": 526,
   "metadata": {},
   "outputs": [],
   "source": [
    "prediction_full = []\n",
    "window = 3\n",
    "df_copy = df_news_price_tweets.iloc[:, 1:2][1:].values\n",
    "\n",
    "for j in range(10):\n",
    "    df_ = np.vstack((df_copy, pred_))\n",
    "    train_ = df_[:num_shape]\n",
    "    test_ = df_[num_shape:]\n",
    "    \n",
    "    df_volume_ = np.vstack((train_, test_))\n",
    "\n",
    "    inputs_ = df_volume_[df_volume_.shape[0] - test_.shape[0] - window:]\n",
    "    inputs_ = inputs_.reshape(-1,1)\n",
    "    inputs_ = sc.transform(inputs_)\n",
    "\n",
    "    X_test_2 = []\n",
    "\n",
    "    for k in range(window, num_2):\n",
    "        X_test_3 = np.reshape(inputs_[k-window:k, 0], (window, 1))\n",
    "        X_test_2.append(X_test_3)\n",
    "\n",
    "    X_test_ = np.stack(X_test_2)\n",
    "    predict_ = modelGRU.predict(X_test_)\n",
    "    pred_ = sc.inverse_transform(predict_)\n",
    "    prediction_full.append(pred_[-1][0])\n",
    "    df_copy = df_[j:]"
   ]
  },
  {
   "cell_type": "code",
   "execution_count": 527,
   "metadata": {},
   "outputs": [],
   "source": [
    "df_date_GRU = df_news_price_tweets[['Date']]\n",
    "\n",
    "for h in range(10):\n",
    "    df_date_add = pd.to_datetime(df_date_GRU['Date'].iloc[-1]) + pd.DateOffset(days=1)\n",
    "    df_date_add = pd.DataFrame([df_date_add.strftime(\"%Y-%m-%d\")], columns=['Date'])\n",
    "    df_date_GRU = df_date_GRU.append(df_date_add)\n",
    "df_date_GRU = df_date_GRU.reset_index(drop=True)\n",
    "df_date_GRU=df_date_GRU.iloc[-10:]\n",
    "df_date_GRU['Prediction']=prediction_full"
   ]
  },
  {
   "cell_type": "code",
   "execution_count": 528,
   "metadata": {},
   "outputs": [
    {
     "data": {
      "text/html": [
       "<div>\n",
       "<style scoped>\n",
       "    .dataframe tbody tr th:only-of-type {\n",
       "        vertical-align: middle;\n",
       "    }\n",
       "\n",
       "    .dataframe tbody tr th {\n",
       "        vertical-align: top;\n",
       "    }\n",
       "\n",
       "    .dataframe thead th {\n",
       "        text-align: right;\n",
       "    }\n",
       "</style>\n",
       "<table border=\"1\" class=\"dataframe\">\n",
       "  <thead>\n",
       "    <tr style=\"text-align: right;\">\n",
       "      <th></th>\n",
       "      <th>Date</th>\n",
       "      <th>Prediction</th>\n",
       "    </tr>\n",
       "  </thead>\n",
       "  <tbody>\n",
       "    <tr>\n",
       "      <th>48</th>\n",
       "      <td>2022-11-12</td>\n",
       "      <td>248.709976</td>\n",
       "    </tr>\n",
       "    <tr>\n",
       "      <th>49</th>\n",
       "      <td>2022-11-13</td>\n",
       "      <td>248.709976</td>\n",
       "    </tr>\n",
       "    <tr>\n",
       "      <th>50</th>\n",
       "      <td>2022-11-14</td>\n",
       "      <td>229.569733</td>\n",
       "    </tr>\n",
       "    <tr>\n",
       "      <th>51</th>\n",
       "      <td>2022-11-15</td>\n",
       "      <td>224.224182</td>\n",
       "    </tr>\n",
       "    <tr>\n",
       "      <th>52</th>\n",
       "      <td>2022-11-16</td>\n",
       "      <td>224.314514</td>\n",
       "    </tr>\n",
       "    <tr>\n",
       "      <th>53</th>\n",
       "      <td>2022-11-17</td>\n",
       "      <td>224.314514</td>\n",
       "    </tr>\n",
       "    <tr>\n",
       "      <th>54</th>\n",
       "      <td>2022-11-18</td>\n",
       "      <td>246.253174</td>\n",
       "    </tr>\n",
       "    <tr>\n",
       "      <th>55</th>\n",
       "      <td>2022-11-19</td>\n",
       "      <td>249.801361</td>\n",
       "    </tr>\n",
       "    <tr>\n",
       "      <th>56</th>\n",
       "      <td>2022-11-20</td>\n",
       "      <td>226.039978</td>\n",
       "    </tr>\n",
       "    <tr>\n",
       "      <th>57</th>\n",
       "      <td>2022-11-21</td>\n",
       "      <td>223.824448</td>\n",
       "    </tr>\n",
       "  </tbody>\n",
       "</table>\n",
       "</div>"
      ],
      "text/plain": [
       "          Date  Prediction\n",
       "48  2022-11-12  248.709976\n",
       "49  2022-11-13  248.709976\n",
       "50  2022-11-14  229.569733\n",
       "51  2022-11-15  224.224182\n",
       "52  2022-11-16  224.314514\n",
       "53  2022-11-17  224.314514\n",
       "54  2022-11-18  246.253174\n",
       "55  2022-11-19  249.801361\n",
       "56  2022-11-20  226.039978\n",
       "57  2022-11-21  223.824448"
      ]
     },
     "execution_count": 528,
     "metadata": {},
     "output_type": "execute_result"
    }
   ],
   "source": [
    "df_date_GRU"
   ]
  },
  {
   "cell_type": "code",
   "execution_count": 529,
   "metadata": {},
   "outputs": [
    {
     "data": {
      "image/png": "[encoded data removed]",
      "text/plain": [
       "<Figure size 432x288 with 1 Axes>"
      ]
     },
     "metadata": {
      "needs_background": "light"
     },
     "output_type": "display_data"
    }
   ],
   "source": [
    "plt.figure()\n",
    "df_date_GRU.plot(x='Date',y='Prediction', color = 'blue', label = 'Predicted Price')\n",
    "plt.title('Stock Price Prediction')\n",
    "plt.xlabel('Date')\n",
    "plt.ylabel('Price (Rs.)')\n",
    "plt.legend()\n",
    "plt.show()"
   ]
  },
  {
   "cell_type": "code",
   "execution_count": null,
   "metadata": {},
   "outputs": [],
   "source": []
  }
 ],
 "metadata": {
  "kernelspec": {
   "display_name": "Python 3.8.8 ('base')",
   "language": "python",
   "name": "python3"
  },
  "language_info": {
   "codemirror_mode": {
    "name": "ipython",
    "version": 3
   },
   "file_extension": ".py",
   "mimetype": "text/x-python",
   "name": "python",
   "nbconvert_exporter": "python",
   "pygments_lexer": "ipython3",
   "version": "3.8.8"
  },
  "orig_nbformat": 4,
  "vscode": {
   "interpreter": {
    "hash": "40d3a090f54c6569ab1632332b64b2c03c39dcf918b08424e98f38b5ae0af88f"
   }
  }
 },
 "nbformat": 4,
 "nbformat_minor": 2
}
